{
 "cells": [
  {
   "cell_type": "code",
   "execution_count": null,
   "id": "4a2c0cd3-0982-470e-ac2f-4eb18ac28c4d",
   "metadata": {},
   "outputs": [],
   "source": [
    "import pandas as pd\n",
    "import numpy as np\n",
    "import seaborn as sns\n",
    "import matplotlib.pyplot as plt\n",
    "from sklearn.preprocessing import StandardScaler, MinMaxScaler, OneHotEncoder\n",
    "from imblearn.pipeline import Pipeline as im_pipe\n",
    "from sklearn.pipeline import Pipeline as sk_pipe\n",
    "from imblearn.under_sampling import RandomUnderSampler\n",
    "from imblearn.over_sampling import SMOTE\n",
    "from sklearn.compose import ColumnTransformer\n",
    "from sklearn.cluster import KMeans\n",
    "from sklearn.tree import DecisionTreeClassifier\n",
    "from sklearn.model_selection import cross_val_score, StratifiedKFold, RepeatedStratifiedKFold, cross_validate\n",
    "from sklearn.base import clone\n",
    "from sklearn.metrics import f1_score, precision_score, accuracy_score, recall_score, confusion_matrix, roc_auc_score, roc_curve, plot_roc_curve\n",
    "from sklearn.metrics import auc, precision_recall_curve\n",
    "from sklearn.ensemble import RandomForestClassifier, AdaBoostClassifier\n",
    "from xgboost import XGBClassifier\n",
    "from scipy import interp\n",
    "import warnings\n",
    "warnings.filterwarnings('ignore')"
   ]
  },
  {
   "cell_type": "code",
   "execution_count": null,
   "id": "304a2643-6f1e-4c19-be02-54e0600def37",
   "metadata": {},
   "outputs": [],
   "source": [
    "employee_df = pd.read_csv('~/Documents/Data Science/2nd Semester/Data Science Bootcamp/Project datasets-20220912/DATASET_-_NOVA_IMS_-_Human-Resources-Employee-Attrition.docx/HR_DS.csv')\n",
    "employee_df.head()"
   ]
  },
  {
   "cell_type": "code",
   "execution_count": null,
   "id": "ceb08713-d8dd-45a4-b117-fcc7c49800b3",
   "metadata": {},
   "outputs": [],
   "source": [
    "employee_df.shape"
   ]
  },
  {
   "cell_type": "markdown",
   "id": "046366ae-63c3-46e5-8fad-c669ccfdd03e",
   "metadata": {},
   "source": [
    "We seem to have little data to work with. We probably cannot divide the data in TRAIN and VALIDATION. Use K-Fold CV."
   ]
  },
  {
   "cell_type": "code",
   "execution_count": null,
   "id": "90866c4b-2007-4142-87ad-5725b1e943a7",
   "metadata": {},
   "outputs": [],
   "source": [
    "employee_df.columns.tolist()"
   ]
  },
  {
   "cell_type": "code",
   "execution_count": null,
   "id": "6ca019c9-3b75-4b8e-a392-00e52ceb8add",
   "metadata": {},
   "outputs": [],
   "source": [
    "employee_df.info()"
   ]
  },
  {
   "cell_type": "code",
   "execution_count": null,
   "id": "ed30ddd4-042c-4974-a283-aa6bde02671a",
   "metadata": {},
   "outputs": [],
   "source": [
    "employee_df.Over18.value_counts()"
   ]
  },
  {
   "cell_type": "code",
   "execution_count": null,
   "id": "f25ebac0-3b81-488c-8fbc-e02a5afe278c",
   "metadata": {},
   "outputs": [],
   "source": [
    "employee_df.isna().sum()"
   ]
  },
  {
   "cell_type": "markdown",
   "id": "505c9344-131d-40cd-9915-9d5bf494f874",
   "metadata": {},
   "source": [
    "There are no missing values in our dataset."
   ]
  },
  {
   "cell_type": "code",
   "execution_count": null,
   "id": "81e3cdd6-3de8-48ea-846e-04290df94f2b",
   "metadata": {},
   "outputs": [],
   "source": [
    "employee_df[employee_df.duplicated(keep = False)]"
   ]
  },
  {
   "cell_type": "markdown",
   "id": "10bc8c48-372b-4d43-a504-5956d1709fe7",
   "metadata": {},
   "source": [
    "No duplicates found!"
   ]
  },
  {
   "cell_type": "markdown",
   "id": "dc2fc6a9-e108-47e4-be3a-ae4b13af8956",
   "metadata": {},
   "source": [
    "### Target Distribution"
   ]
  },
  {
   "cell_type": "code",
   "execution_count": null,
   "id": "6654b169-5a82-42ab-93a9-6e4b045710b2",
   "metadata": {},
   "outputs": [],
   "source": [
    "sns.histplot(data = employee_df.Attrition, legend= True)"
   ]
  },
  {
   "cell_type": "markdown",
   "id": "92ba6097-b6d0-4438-b87d-f91165c7bc5f",
   "metadata": {},
   "source": [
    "We have a imbalanced dataset, since most of our observations have a target of 'No'. We must take this into account when using evaluation metrics."
   ]
  },
  {
   "cell_type": "markdown",
   "id": "13ed2394-5e5f-4e4c-97c5-29bd280bd68a",
   "metadata": {},
   "source": [
    "### Numerical Variables"
   ]
  },
  {
   "cell_type": "code",
   "execution_count": null,
   "id": "430fa9ec-979e-48aa-924f-91f4b60b9cfc",
   "metadata": {},
   "outputs": [],
   "source": [
    "employee_df.describe().T"
   ]
  },
  {
   "cell_type": "markdown",
   "id": "3277b964-da46-4493-a8ae-ca1ae54b6100",
   "metadata": {},
   "source": [
    "EmployeeCount and StandardHours are univariate features and should be dropped as they don't provide relevant information to the problem. \n",
    "\n",
    "EmployeeNumber don't seem relevant also, set as index."
   ]
  },
  {
   "cell_type": "code",
   "execution_count": null,
   "id": "b724e24c-e629-4013-b7f3-86a5c0c748f4",
   "metadata": {},
   "outputs": [],
   "source": [
    "employee_df.set_index('EmployeeNumber', inplace= True)\n",
    "employee_df.head()"
   ]
  },
  {
   "cell_type": "code",
   "execution_count": null,
   "id": "5796ca94-5108-4df0-aa7c-daabf93bf39b",
   "metadata": {},
   "outputs": [],
   "source": [
    "employee_df.drop(columns= ['EmployeeCount', 'StandardHours', 'Over18'], axis = 1, inplace = True)"
   ]
  },
  {
   "cell_type": "code",
   "execution_count": null,
   "id": "3ab3a036-1147-4be6-a621-dc77dd688279",
   "metadata": {},
   "outputs": [],
   "source": [
    "employee_df.skew()"
   ]
  },
  {
   "cell_type": "markdown",
   "id": "cf7cd3cc-31ce-4fad-8b83-dc109cc0fbfa",
   "metadata": {},
   "source": [
    "NumCompaniesWorked, PerformanceRating, TotalWorkingYears, YearsAtCompany, YearsSinceLastPromotion seem to be highly skewed and might contain a few outliers."
   ]
  },
  {
   "cell_type": "code",
   "execution_count": null,
   "id": "d3d9b02f-9b3b-4c60-b891-3c4bec404eb3",
   "metadata": {},
   "outputs": [],
   "source": [
    "sns.histplot(employee_df.NumCompaniesWorked, color = 'g')"
   ]
  },
  {
   "cell_type": "code",
   "execution_count": null,
   "id": "f2d8bdad-2686-4df1-8650-dfbd79dbced0",
   "metadata": {},
   "outputs": [],
   "source": [
    "sns.histplot(employee_df.PerformanceRating, color = 'r')\n",
    "print(employee_df.PerformanceRating.value_counts())"
   ]
  },
  {
   "cell_type": "markdown",
   "id": "f9c74d28-9406-4a0e-82f9-18545a74b99c",
   "metadata": {},
   "source": [
    "Weird values in Performance Rating, only 3 and 4 values?"
   ]
  },
  {
   "cell_type": "code",
   "execution_count": null,
   "id": "4db19fe9-e5dd-455c-87fd-3d927e50e42b",
   "metadata": {},
   "outputs": [],
   "source": [
    "sns.histplot(employee_df.TotalWorkingYears, color = 'b')"
   ]
  },
  {
   "cell_type": "code",
   "execution_count": null,
   "id": "77b73495-da6d-4b4c-9b27-54dbae051c85",
   "metadata": {},
   "outputs": [],
   "source": [
    "sns.histplot(employee_df.YearsAtCompany, color = 'purple')"
   ]
  },
  {
   "cell_type": "code",
   "execution_count": null,
   "id": "012a9275-20b9-47a4-9ba7-bb761f86f2cd",
   "metadata": {},
   "outputs": [],
   "source": [
    "figure, axes = plt.subplots(2, 2, sharex= False, figsize=(10,5))\n",
    "figure.suptitle('Boxplots')\n",
    "\n",
    "sns.boxplot(ax= axes[0, 0], data= employee_df, y= 'NumCompaniesWorked', color= 'g')\n",
    "sns.boxplot(ax= axes[0, 1], data= employee_df, y= 'PerformanceRating', color= 'r')\n",
    "sns.boxplot(ax= axes[1, 0], data= employee_df, y= 'TotalWorkingYears', color= 'b')\n",
    "sns.boxplot(ax= axes[1, 1], data= employee_df, y= 'YearsAtCompany', color= 'purple')"
   ]
  },
  {
   "cell_type": "code",
   "execution_count": null,
   "id": "f41a0db9-36cf-4b07-a811-b87f0e29294a",
   "metadata": {},
   "outputs": [],
   "source": [
    "df_corr = employee_df.corr(method = 'pearson')\n",
    "figure = plt.figure(figsize = (16, 10))\n",
    "sns.heatmap(df_corr, cmap = 'YlGn',annot = True, fmt = '.1g')"
   ]
  },
  {
   "cell_type": "code",
   "execution_count": null,
   "id": "d212df13-9016-4358-a352-2985ff97b3f4",
   "metadata": {},
   "outputs": [],
   "source": [
    "employee_df.MonthlyIncome.hist()"
   ]
  },
  {
   "cell_type": "markdown",
   "id": "b89404a1-9166-4b8e-92cc-8406858cfa29",
   "metadata": {},
   "source": [
    "### Cateforical Variables"
   ]
  },
  {
   "cell_type": "code",
   "execution_count": null,
   "id": "9e596ea9-0fd2-471a-a524-986c99816b50",
   "metadata": {},
   "outputs": [],
   "source": [
    "employee_df.describe(include = ['O']) # incluir as variáveis categóricas no describe"
   ]
  },
  {
   "cell_type": "markdown",
   "id": "2c54c303-49f2-4707-aa78-506cc7836bb4",
   "metadata": {},
   "source": [
    "No NaN values found in categorical variables.\n",
    "\n",
    "As seen previously Attrition possesses for the most time the value \"No\", people tend to travel rarely, do R&D, come from Life Sciences and are Male most of the time.\n",
    "\n",
    "The most frequent Job Role is Sales Executive, more than half of employees are Married and more than 2/3 don't do overtime."
   ]
  },
  {
   "cell_type": "markdown",
   "id": "6bfaca23-0514-4ffb-95aa-0e6413526b42",
   "metadata": {},
   "source": [
    "# Data Pre Processing"
   ]
  },
  {
   "cell_type": "markdown",
   "id": "614296b1-9ea8-4642-96c3-be75253e3188",
   "metadata": {},
   "source": [
    "### Dummify Target Variable"
   ]
  },
  {
   "cell_type": "code",
   "execution_count": null,
   "id": "b0f39eaa-1499-4848-987a-c595faeaa6fa",
   "metadata": {},
   "outputs": [],
   "source": [
    "employee_df.Attrition.replace(to_replace= ['Yes', 'No'], value= [1, 0], inplace= True)\n",
    "employee_df.Attrition.value_counts()"
   ]
  },
  {
   "cell_type": "markdown",
   "id": "124a7022-ad66-4a90-9534-d9d9cd764468",
   "metadata": {},
   "source": [
    "### Separate Labels from Features"
   ]
  },
  {
   "cell_type": "code",
   "execution_count": null,
   "id": "d1f91f06-9f2c-4223-9bef-c083df8bd048",
   "metadata": {},
   "outputs": [],
   "source": [
    "labels = employee_df[['Attrition']].copy()"
   ]
  },
  {
   "cell_type": "code",
   "execution_count": null,
   "id": "2f194357-2df9-4f2f-837b-9e5b6c5262bc",
   "metadata": {},
   "outputs": [],
   "source": [
    "len(labels[labels.Attrition == 1]) / len(labels)"
   ]
  },
  {
   "cell_type": "code",
   "execution_count": null,
   "id": "ee9fb132-322f-456c-9b4e-867906b6b260",
   "metadata": {},
   "outputs": [],
   "source": [
    "employee_df = employee_df.drop('Attrition', axis = 1)\n",
    "employee_df.head()"
   ]
  },
  {
   "cell_type": "markdown",
   "id": "a615a261-c2c3-4caf-b5bc-a80cf51ccb23",
   "metadata": {},
   "source": [
    "### Separate Categorical variables from Numerical"
   ]
  },
  {
   "cell_type": "code",
   "execution_count": null,
   "id": "4403ff3d-d01a-47f3-80cf-c51f784bcdbf",
   "metadata": {},
   "outputs": [],
   "source": [
    "employee_df.dtypes"
   ]
  },
  {
   "cell_type": "code",
   "execution_count": null,
   "id": "e39887a4-de00-4bcc-8e27-cfa44b00cd12",
   "metadata": {},
   "outputs": [],
   "source": [
    "df_num = employee_df.drop(columns= ['BusinessTravel', 'Department', 'EducationField', 'Gender', \n",
    "                                    'JobRole', 'MaritalStatus', 'OverTime'])\n",
    "df_cat = employee_df[['BusinessTravel', 'Department', 'EducationField', 'Gender', \n",
    "                                    'JobRole', 'MaritalStatus', 'OverTime']]"
   ]
  },
  {
   "cell_type": "code",
   "execution_count": null,
   "id": "996e8a61-cee9-4bc0-a0d1-029e2eab4a49",
   "metadata": {},
   "outputs": [],
   "source": [
    "list_num = df_num.columns.tolist()\n",
    "list_cat = df_cat.columns.tolist()"
   ]
  },
  {
   "cell_type": "code",
   "execution_count": null,
   "id": "3528e21c-5110-433d-84a8-a14a8feefc18",
   "metadata": {},
   "outputs": [],
   "source": [
    "cat_pipepline = sk_pipe([('encoder', OneHotEncoder(categories= 'auto'))])\n",
    "num_pipeline = sk_pipe([('std_scaler', StandardScaler())])"
   ]
  },
  {
   "cell_type": "code",
   "execution_count": null,
   "id": "5619eae5-11b3-4172-a24e-825860414282",
   "metadata": {},
   "outputs": [],
   "source": [
    "employee_cat = cat_pipepline.fit_transform(df_cat) # apply the pipeline to cat data\n",
    "employee_num = num_pipeline.fit_transform(df_num) # apply the pipeline to num data"
   ]
  },
  {
   "cell_type": "code",
   "execution_count": null,
   "id": "8462ff91-f43d-4841-a4b3-a008579a7ca6",
   "metadata": {},
   "outputs": [],
   "source": [
    "full_pipeline = ColumnTransformer([\n",
    "    ('num', num_pipeline, list_num),\n",
    "    ('cat', cat_pipepline, list_cat),\n",
    "])"
   ]
  },
  {
   "cell_type": "code",
   "execution_count": null,
   "id": "010c4300-867c-4e0f-95e6-f3a54fd36937",
   "metadata": {},
   "outputs": [],
   "source": [
    "employee_array_prepared = full_pipeline.fit_transform(employee_df)"
   ]
  },
  {
   "cell_type": "code",
   "execution_count": null,
   "id": "94ad275c-fe06-4f5d-ac02-750de6f29bca",
   "metadata": {},
   "outputs": [],
   "source": [
    "employee_array_prepared"
   ]
  },
  {
   "cell_type": "code",
   "execution_count": null,
   "id": "7977373d-4ea3-4aae-a82e-580de558dde9",
   "metadata": {},
   "outputs": [],
   "source": [
    "employee_df"
   ]
  },
  {
   "cell_type": "markdown",
   "id": "144fe779-8ddb-430d-94db-f966525258c2",
   "metadata": {},
   "source": [
    "#### Transform prepared array back to dataframe"
   ]
  },
  {
   "cell_type": "code",
   "execution_count": null,
   "id": "46666756-a27a-47a5-bc6b-5c96c6e1077d",
   "metadata": {},
   "outputs": [],
   "source": [
    "cat_cols_encoded = []\n",
    "for col in list_cat:\n",
    "    cat_cols_encoded += [f\"{col[0]}_{cat}\" for cat in list(employee_df[col].unique())]\n",
    "\n",
    "cat_cols_encoded"
   ]
  },
  {
   "cell_type": "code",
   "execution_count": null,
   "id": "c35cc60b-bab1-48bb-89d4-2dd7139c862f",
   "metadata": {},
   "outputs": [],
   "source": [
    "len(employee_cat.toarray()[0])"
   ]
  },
  {
   "cell_type": "code",
   "execution_count": null,
   "id": "9c87f69d-9edc-40f5-94e0-7b5ba4f18b36",
   "metadata": {},
   "outputs": [],
   "source": [
    "employee_num"
   ]
  },
  {
   "cell_type": "code",
   "execution_count": null,
   "id": "a7eea702-3697-44c6-abbd-5ee6cce981db",
   "metadata": {},
   "outputs": [],
   "source": [
    "employee_df_prepared_cat = pd.DataFrame(employee_cat.toarray(), columns= cat_cols_encoded, \n",
    "                                      index= df_cat.index) ## transformar para um df as categóricas\n",
    "employee_df_prepared_num = pd.DataFrame(employee_num, columns= df_num.columns,\n",
    "                                       index= df_num.index) ## transformar para um df as numéricas\n",
    "\n",
    "employee_df_prepared = employee_df_prepared_num.merge(employee_df_prepared_cat, how= 'left',\n",
    "                                                     on= employee_df_prepared_num.index)\n",
    "employee_df_prepared.rename(columns= {\"key_0\": \"EmployeeNumber\"}, inplace= True)\n",
    "employee_df_prepared.set_index('EmployeeNumber', inplace= True)\n",
    "employee_df_prepared"
   ]
  },
  {
   "cell_type": "markdown",
   "id": "3ed9dfee-9b89-4016-b722-1480f6afa548",
   "metadata": {},
   "source": [
    "## Select and Train a Model"
   ]
  },
  {
   "cell_type": "markdown",
   "id": "42ec9404-f8a2-4b2b-8ceb-8b95eccf9599",
   "metadata": {},
   "source": [
    "### Decision Tree Classifier"
   ]
  },
  {
   "cell_type": "markdown",
   "id": "e18413c6-0ca7-43d8-bf48-54fc601bba28",
   "metadata": {},
   "source": [
    "### Without SMOTE"
   ]
  },
  {
   "cell_type": "code",
   "execution_count": null,
   "id": "5743f581-11d6-43b6-b832-7936d622babe",
   "metadata": {},
   "outputs": [],
   "source": [
    "dec_tree_clf = DecisionTreeClassifier()\n",
    "dec_tree_clf.fit(employee_df_prepared, labels)"
   ]
  },
  {
   "cell_type": "code",
   "execution_count": null,
   "id": "905a546e-c7fb-4a65-8464-90cfab3c278c",
   "metadata": {},
   "outputs": [],
   "source": [
    "scores = cross_validate(dec_tree_clf, employee_df_prepared, labels, scoring= ('roc_auc', 'f1_weighted'), cv= 3, n_jobs= -1)"
   ]
  },
  {
   "cell_type": "code",
   "execution_count": null,
   "id": "d4a6dc85-c154-4bde-9c4c-4094bee90571",
   "metadata": {},
   "outputs": [],
   "source": [
    "print('Mean ROC AUC: %.3f' % np.mean((scores['test_roc_auc'])))\n",
    "print('Mean F1-Score Weighted: %.3f' % np.mean((scores['test_f1_weighted'])))"
   ]
  },
  {
   "cell_type": "markdown",
   "id": "a6ab6513-b5db-4afa-9e0a-93c3cd646bed",
   "metadata": {},
   "source": [
    "### With SMOTE"
   ]
  },
  {
   "cell_type": "code",
   "execution_count": null,
   "id": "0bde34bb-e36b-47b0-88c4-cafa60e2bbc9",
   "metadata": {},
   "outputs": [],
   "source": [
    "steps = [('over', SMOTE()), ('model', DecisionTreeClassifier())]\n",
    "pipeline = im_pipe(steps= steps)\n",
    "cv = RepeatedStratifiedKFold(n_splits= 10, n_repeats= 3, random_state= 1)\n",
    "scores = cross_validate(pipeline, employee_df_prepared, labels, scoring= ('roc_auc', 'f1_weighted'), cv=cv, n_jobs= -1)"
   ]
  },
  {
   "cell_type": "code",
   "execution_count": null,
   "id": "0bbd8866-67dc-4d09-864f-51b89f1c9137",
   "metadata": {},
   "outputs": [],
   "source": [
    "print('Mean ROC AUC: %.3f' % np.mean((scores['test_roc_auc'])))\n",
    "print('Mean F1-Score Weighted: %.3f' % np.mean((scores['test_f1_weighted'])))"
   ]
  },
  {
   "cell_type": "markdown",
   "id": "cac60102-d2c2-4f61-8a2c-973c7d323c9c",
   "metadata": {},
   "source": [
    "## Random Forest"
   ]
  },
  {
   "cell_type": "markdown",
   "id": "4ede36c5-8f50-414e-bd2f-bb4fc396b30e",
   "metadata": {},
   "source": [
    "### Without SMOTE"
   ]
  },
  {
   "cell_type": "code",
   "execution_count": null,
   "id": "12d2cb91-7426-4e17-8405-18a563592f29",
   "metadata": {},
   "outputs": [],
   "source": [
    "rf_clf = RandomForestClassifier(n_estimators= 10, class_weight= 'balanced_subsample')\n",
    "rf_clf.fit(employee_df_prepared, labels)"
   ]
  },
  {
   "cell_type": "code",
   "execution_count": null,
   "id": "38bfa021-84d6-4b9f-916f-42bdff03641e",
   "metadata": {},
   "outputs": [],
   "source": [
    "# Define a evaluation method\n",
    "cv = RepeatedStratifiedKFold(n_splits= 10, n_repeats= 3)"
   ]
  },
  {
   "cell_type": "code",
   "execution_count": null,
   "id": "24d6bb09-e3f7-4517-a497-2622d13f6a4a",
   "metadata": {
    "scrolled": true,
    "tags": []
   },
   "outputs": [],
   "source": [
    "scores = cross_validate(rf_clf, employee_df_prepared, labels, cv= cv, scoring= ('roc_auc', 'f1_weighted'))"
   ]
  },
  {
   "cell_type": "code",
   "execution_count": null,
   "id": "087bebc9-e443-46be-b7d2-627e8c288828",
   "metadata": {},
   "outputs": [],
   "source": [
    "print('Mean ROC AUC: %.3f' % np.mean((scores['test_roc_auc'])))\n",
    "print('Mean F1-Score Weighted: %.3f' % np.mean((scores['test_f1_weighted'])))"
   ]
  },
  {
   "cell_type": "markdown",
   "id": "17276072-5568-430f-b2d3-43f8ca55fe17",
   "metadata": {},
   "source": [
    "### With SMOTE"
   ]
  },
  {
   "cell_type": "code",
   "execution_count": null,
   "id": "f3eb8c6a-239f-44c4-baf4-ec1f4cf50ddf",
   "metadata": {
    "scrolled": true,
    "tags": []
   },
   "outputs": [],
   "source": [
    "steps = [('over', SMOTE()), ('model', RandomForestClassifier(n_estimators= 10, class_weight= 'balanced_subsample'))]\n",
    "pipeline = im_pipe(steps=steps)\n",
    "cv = RepeatedStratifiedKFold(n_splits=10, n_repeats=3, random_state=1)\n",
    "scores = cross_validate(pipeline, employee_df_prepared, labels, scoring= ('roc_auc', 'f1_weighted'), cv= cv, n_jobs=-1)"
   ]
  },
  {
   "cell_type": "code",
   "execution_count": null,
   "id": "035e06df-360b-4bd0-aa8c-87496576211f",
   "metadata": {},
   "outputs": [],
   "source": [
    "print('Mean ROC AUC: %.3f' % np.mean((scores['test_roc_auc'])))\n",
    "print('Mean F1-Score Weighted: %.3f' % np.mean((scores['test_f1_weighted'])))"
   ]
  },
  {
   "cell_type": "markdown",
   "id": "61f923ed-7185-424f-809f-c8dd9db633b9",
   "metadata": {},
   "source": [
    "#### Feature Importance - Random Forest"
   ]
  },
  {
   "cell_type": "code",
   "execution_count": null,
   "id": "3f489f58-6224-46bb-8858-3d8a7bf313a9",
   "metadata": {},
   "outputs": [],
   "source": [
    "gini_importance_rf = RandomForestClassifier(n_estimators = 10, class_weight= 'balanced_subsample', \n",
    "                                            criterion = 'gini')\n",
    "gini_importance_fit_rf = gini_importance_rf.fit(employee_df_prepared, labels).feature_importances_\n",
    "entropy_importance_rf = RandomForestClassifier(n_estimators = 10, class_weight= 'balanced_subsample',\n",
    "                                               criterion = 'entropy')\n",
    "entropy_importance_fit_rf = entropy_importance_rf.fit(employee_df_prepared, labels).feature_importances_"
   ]
  },
  {
   "cell_type": "code",
   "execution_count": null,
   "id": "e20d5bb4-302d-465b-94a9-a6fb70b40ce7",
   "metadata": {},
   "outputs": [],
   "source": [
    "zippy = pd.DataFrame(zip(gini_importance_fit_rf, entropy_importance_fit_rf), columns = ['gini','entropy'])\n",
    "zippy['col'] = employee_df_prepared.columns\n",
    "tidy = zippy.melt(id_vars='col').rename(columns=str.title)\n",
    "tidy.sort_values(['Value'], ascending = False, inplace = True)\n",
    "\n",
    "plt.figure(figsize=(30,15))\n",
    "sns.barplot(y='Col', x='Value', hue='Variable', data=tidy)"
   ]
  },
  {
   "cell_type": "markdown",
   "id": "b25df1e8-ca5f-4b6a-9865-832567676968",
   "metadata": {},
   "source": [
    "## XGBoost"
   ]
  },
  {
   "cell_type": "markdown",
   "id": "e2aaf1e4-cd51-4dd2-9881-0b6b5e1707f0",
   "metadata": {},
   "source": [
    "### Without SMOTE"
   ]
  },
  {
   "cell_type": "code",
   "execution_count": null,
   "id": "bd671dda-9597-467d-a4a4-84f94f8756f4",
   "metadata": {},
   "outputs": [],
   "source": [
    "steps = [('model', XGBClassifier(scale_pos_weight= 0.1))]\n",
    "pipeline = im_pipe(steps= steps)\n",
    "cv = RepeatedStratifiedKFold(n_splits= 10, n_repeats= 3, random_state= 1)\n",
    "scores = cross_validate(pipeline, employee_df_prepared, labels, scoring= ('roc_auc', 'f1_weighted'), cv= cv, n_jobs= -1)"
   ]
  },
  {
   "cell_type": "code",
   "execution_count": null,
   "id": "014e01df-82f4-44c1-a913-6df2df7f4e06",
   "metadata": {},
   "outputs": [],
   "source": [
    "print('Mean ROC AUC: %.3f' % np.mean((scores['test_roc_auc'])))\n",
    "print('Mean F1-Score Weighted: %.3f' % np.mean((scores['test_f1_weighted'])))"
   ]
  },
  {
   "cell_type": "markdown",
   "id": "2d7e99b8-4296-4808-b971-a1983633b406",
   "metadata": {},
   "source": [
    "### With SMOTE"
   ]
  },
  {
   "cell_type": "code",
   "execution_count": null,
   "id": "47e77e9c-c10e-48cc-9557-a3c89db346a0",
   "metadata": {},
   "outputs": [],
   "source": [
    "steps = [('over', SMOTE()), ('model', XGBClassifier(scale_pos_weight= 0.1))]\n",
    "pipeline = im_pipe(steps= steps)\n",
    "cv = RepeatedStratifiedKFold(n_splits= 10, n_repeats= 3, random_state= 1)\n",
    "scores = cross_validate(pipeline, employee_df_prepared, labels, scoring= ('roc_auc', 'f1_weighted'), cv=cv, n_jobs= -1)"
   ]
  },
  {
   "cell_type": "code",
   "execution_count": null,
   "id": "e7ba08e3-a572-4d93-9031-1b0bbc443b20",
   "metadata": {},
   "outputs": [],
   "source": [
    "print('Mean ROC AUC: %.3f' % np.mean((scores['test_roc_auc'])))\n",
    "print('Mean F1-Score Weighted: %.3f' % np.mean((scores['test_f1_weighted'])))"
   ]
  },
  {
   "cell_type": "markdown",
   "id": "7ff9461a-18a8-49d4-a22f-752740dad4e4",
   "metadata": {},
   "source": [
    "## AdaBoost"
   ]
  },
  {
   "cell_type": "markdown",
   "id": "f0c87c21-ccbd-4698-a9ed-19617338a9e3",
   "metadata": {},
   "source": [
    "### Without SMOTE"
   ]
  },
  {
   "cell_type": "code",
   "execution_count": null,
   "id": "e5bc2617-4f03-4efd-a544-6d9ffc621942",
   "metadata": {
    "scrolled": true,
    "tags": []
   },
   "outputs": [],
   "source": [
    "steps = [('model', AdaBoostClassifier())]\n",
    "pipeline = im_pipe(steps= steps)\n",
    "cv = RepeatedStratifiedKFold(n_splits= 10, n_repeats= 3, random_state= 1)\n",
    "scores = cross_validate(pipeline, employee_df_prepared, labels, scoring= ('roc_auc', 'f1_weighted'), cv= cv, n_jobs= -1)"
   ]
  },
  {
   "cell_type": "code",
   "execution_count": null,
   "id": "6f70e554-4696-4ddf-9c8b-82c811b8142c",
   "metadata": {},
   "outputs": [],
   "source": [
    "print('Mean ROC AUC: %.3f' % np.mean((scores['test_roc_auc'])))\n",
    "print('Mean F1-Score Weighted: %.3f' % np.mean((scores['test_f1_weighted'])))"
   ]
  },
  {
   "cell_type": "markdown",
   "id": "53f4b81f-d2a6-4936-a3e8-17ba202bd7c9",
   "metadata": {},
   "source": [
    "### With SMOTE"
   ]
  },
  {
   "cell_type": "code",
   "execution_count": null,
   "id": "738a06f3-84ac-4955-bcf3-46dbb71a37a2",
   "metadata": {
    "scrolled": true,
    "tags": []
   },
   "outputs": [],
   "source": [
    "steps = [('over', SMOTE()), ('model', AdaBoostClassifier())]\n",
    "pipeline = im_pipe(steps= steps)\n",
    "cv = RepeatedStratifiedKFold(n_splits= 10, n_repeats= 3, random_state= 1)\n",
    "scores = cross_validate(pipeline, employee_df_prepared, labels, scoring= ('roc_auc', 'f1_weighted'), cv= cv, n_jobs= -1)"
   ]
  },
  {
   "cell_type": "code",
   "execution_count": null,
   "id": "c678d552-fd49-42ad-8929-7159900ebc99",
   "metadata": {},
   "outputs": [],
   "source": [
    "print('Mean ROC AUC: %.3f' % np.mean((scores['test_roc_auc'])))\n",
    "print('Mean F1-Score Weighted: %.3f' % np.mean((scores['test_f1_weighted'])))"
   ]
  },
  {
   "cell_type": "markdown",
   "id": "27790397-6350-43d6-a105-05285b85a73f",
   "metadata": {},
   "source": [
    "## Model Fit and Feature Importance"
   ]
  },
  {
   "cell_type": "code",
   "execution_count": null,
   "id": "251b3531-fb55-44df-b247-f237d59ec586",
   "metadata": {},
   "outputs": [],
   "source": [
    "pipeline.fit(employee_df_prepared, labels)"
   ]
  },
  {
   "cell_type": "code",
   "execution_count": null,
   "id": "0ddbb6f1-dd28-4833-9fef-3c6523dd33ca",
   "metadata": {},
   "outputs": [],
   "source": [
    "pipeline[1].feature_importances_"
   ]
  },
  {
   "cell_type": "code",
   "execution_count": null,
   "id": "a4800fbe-0d94-454d-9280-cedfe90a5c14",
   "metadata": {},
   "outputs": [],
   "source": [
    "employee_df_prepared.columns"
   ]
  },
  {
   "cell_type": "code",
   "execution_count": null,
   "id": "e09d372a-a812-4681-bea0-40cc87dc3c0a",
   "metadata": {
    "scrolled": true,
    "tags": []
   },
   "outputs": [],
   "source": [
    "pd.set_option('display.max_columns', 500)\n",
    "feat_imp = pd.DataFrame({'Features': employee_df_prepared.columns, 'Importance': pipeline[1].feature_importances_})\n",
    "feat_imp.T"
   ]
  },
  {
   "cell_type": "code",
   "execution_count": null,
   "id": "f5c097d9-05e4-46b7-a5a9-75fee77c9a43",
   "metadata": {},
   "outputs": [],
   "source": [
    "columns_to_drop = feat_imp[feat_imp.Importance == 0].Features.tolist()"
   ]
  },
  {
   "cell_type": "code",
   "execution_count": null,
   "id": "25ad085f-56c7-4923-9517-66cb6252808d",
   "metadata": {},
   "outputs": [],
   "source": [
    "employee_df_prepared_feature_importance = employee_df_prepared.copy()\n",
    "employee_df_prepared_feature_importance.drop(columns= columns_to_drop, axis= 1, inplace= True)"
   ]
  },
  {
   "cell_type": "code",
   "execution_count": null,
   "id": "b82293a4-a118-4e9b-b0f8-fc89b5b73c1c",
   "metadata": {
    "scrolled": true,
    "tags": []
   },
   "outputs": [],
   "source": [
    "steps = [('over', SMOTE()), ('model', AdaBoostClassifier())]\n",
    "pipeline = im_pipe(steps= steps)\n",
    "cv = RepeatedStratifiedKFold(n_splits= 10, n_repeats= 3, random_state= 1)\n",
    "scores = cross_validate(pipeline, employee_df_prepared_feature_importance, labels, scoring= ('roc_auc', 'f1_weighted'), cv= cv, n_jobs= -1)"
   ]
  },
  {
   "cell_type": "code",
   "execution_count": null,
   "id": "06c9e55d-751c-458b-9b30-b828c591dae1",
   "metadata": {},
   "outputs": [],
   "source": [
    "print('Mean ROC AUC: %.3f' % np.mean((scores['test_roc_auc'])))\n",
    "print('Mean F1-Score Weighted: %.3f' % np.mean((scores['test_f1_weighted'])))"
   ]
  },
  {
   "cell_type": "code",
   "execution_count": null,
   "id": "2753b58e-829d-419d-adc2-0ee8c51036c6",
   "metadata": {},
   "outputs": [],
   "source": [
    "pipeline.fit(employee_df_prepared_feature_importance, labels)"
   ]
  },
  {
   "cell_type": "code",
   "execution_count": null,
   "id": "4dc7c84e-f87f-4cfc-acef-0010fc257554",
   "metadata": {},
   "outputs": [],
   "source": [
    "pipeline[1].feature_importances_"
   ]
  },
  {
   "cell_type": "code",
   "execution_count": null,
   "id": "2e4bfe00-626c-46c5-a77a-230c8706b694",
   "metadata": {},
   "outputs": [],
   "source": [
    "feat_imp_v2 = pd.DataFrame({'Features': employee_df_prepared_feature_importance.columns, 'Importance': pipeline[1].feature_importances_})\n",
    "feat_imp_v2.T"
   ]
  },
  {
   "cell_type": "code",
   "execution_count": null,
   "id": "b8876b81-3330-41f1-b916-86000510b6e2",
   "metadata": {},
   "outputs": [],
   "source": [
    "columns_to_drop = feat_imp_v2[feat_imp_v2.Importance == 0].Features.tolist()"
   ]
  },
  {
   "cell_type": "code",
   "execution_count": null,
   "id": "7e2411d1-79f3-4f9e-8d7d-0042bfa21f42",
   "metadata": {},
   "outputs": [],
   "source": [
    "employee_df_prepared_feature_importance_v2 = employee_df_prepared_feature_importance.copy()\n",
    "employee_df_prepared_feature_importance_v2.drop(columns= columns_to_drop, axis= 1, inplace= True)"
   ]
  },
  {
   "cell_type": "code",
   "execution_count": null,
   "id": "fcc4490f-07ce-4a20-ba86-061958434f74",
   "metadata": {
    "scrolled": true,
    "tags": []
   },
   "outputs": [],
   "source": [
    "steps = [('over', SMOTE()), ('model', AdaBoostClassifier())]\n",
    "pipeline = im_pipe(steps= steps)\n",
    "cv = RepeatedStratifiedKFold(n_splits= 10, n_repeats= 3, random_state= 1)\n",
    "scores = cross_validate(pipeline, employee_df_prepared_feature_importance_v2, labels, scoring= ('roc_auc', 'f1_weighted'), cv= cv, n_jobs= -1)"
   ]
  },
  {
   "cell_type": "code",
   "execution_count": null,
   "id": "776d3cc5-54e3-4e83-a4c7-489527413045",
   "metadata": {},
   "outputs": [],
   "source": [
    "print('Mean ROC AUC: %.3f' % np.mean((scores['test_roc_auc'])))\n",
    "print('Mean F1-Score Weighted: %.3f' % np.mean((scores['test_f1_weighted'])))"
   ]
  },
  {
   "cell_type": "code",
   "execution_count": null,
   "id": "2e2f0993-0844-45a1-814e-668079a76223",
   "metadata": {},
   "outputs": [],
   "source": [
    "pipeline.fit(employee_df_prepared_feature_importance_v2, labels)"
   ]
  },
  {
   "cell_type": "code",
   "execution_count": null,
   "id": "53a886f7-01d6-4c90-96dc-012e25440e70",
   "metadata": {},
   "outputs": [],
   "source": [
    "pipeline[1].feature_importances_"
   ]
  },
  {
   "cell_type": "code",
   "execution_count": null,
   "id": "7a93930f-a431-4f36-b7e0-20a0af9acfd8",
   "metadata": {},
   "outputs": [],
   "source": [
    "feat_imp_v3 = pd.DataFrame({'Features': employee_df_prepared_feature_importance_v2.columns, 'Importance': pipeline[1].feature_importances_})\n",
    "feat_imp_v3.T"
   ]
  },
  {
   "cell_type": "markdown",
   "id": "99d8ae6b-da36-45f8-a8fa-5a416269530b",
   "metadata": {},
   "source": [
    "### Hyperparameter Tuning"
   ]
  },
  {
   "cell_type": "code",
   "execution_count": null,
   "id": "6593a137-d17a-4016-8ef7-23da6610574f",
   "metadata": {
    "scrolled": true,
    "tags": []
   },
   "outputs": [],
   "source": [
    "steps = [('over', SMOTE()), ('model', AdaBoostClassifier(learning_rate= 0.7, n_estimators= 100,\n",
    "                                                        algorithm= 'SAMME.R'))]\n",
    "pipeline = im_pipe(steps= steps)\n",
    "cv = RepeatedStratifiedKFold(n_splits= 10, n_repeats= 3, random_state= 1)\n",
    "scores = cross_validate(pipeline, employee_df_prepared_feature_importance_v2, labels, scoring= ('roc_auc', 'f1_weighted'), cv= cv, n_jobs= -1)\n",
    "pipeline.fit(employee_df_prepared_feature_importance_v2, labels)"
   ]
  },
  {
   "cell_type": "code",
   "execution_count": null,
   "id": "481af1aa-2111-4216-a061-9dd553eadf74",
   "metadata": {},
   "outputs": [],
   "source": [
    "pipeline"
   ]
  },
  {
   "cell_type": "code",
   "execution_count": null,
   "id": "c44c27b7-688a-436e-b58e-3519e00316cc",
   "metadata": {},
   "outputs": [],
   "source": [
    "print('Mean ROC AUC: %.3f' % np.mean((scores['test_roc_auc'])))\n",
    "print('Mean F1-Score Weighted: %.3f' % np.mean((scores['test_f1_weighted'])))"
   ]
  },
  {
   "cell_type": "markdown",
   "id": "2df111f8-c2d5-41cf-ae52-8909d3f6cc89",
   "metadata": {},
   "source": [
    "### Feature Correlation W/ Target"
   ]
  },
  {
   "cell_type": "code",
   "execution_count": null,
   "id": "31a62cf7-319b-49ee-9fc8-a651428b3da8",
   "metadata": {},
   "outputs": [],
   "source": [
    "columns = employee_df_prepared_feature_importance_v2.columns.tolist()\n",
    "correlations = []\n",
    "for column in columns:\n",
    "    correlations.append(labels.corrwith(employee_df_prepared_feature_importance_v2[column], axis = 0)[0])\n",
    "    \n",
    "correlations_df = pd.DataFrame({'Feature': columns, 'Correlation W/ Target': correlations, \n",
    "                                'Feature Importance': pipeline[1].feature_importances_})\n",
    "correlations_df"
   ]
  },
  {
   "cell_type": "markdown",
   "id": "3d4942e4-5281-4136-a575-760f6eafc338",
   "metadata": {},
   "source": [
    "### ROC Curve"
   ]
  },
  {
   "cell_type": "code",
   "execution_count": null,
   "id": "bca7a17b-1ce2-4358-86ab-295493699ab5",
   "metadata": {},
   "outputs": [],
   "source": [
    "x = employee_df_prepared_feature_importance_v2.copy()\n",
    "y = labels.copy()\n",
    "x.reset_index(drop= True, inplace= True)\n",
    "y.reset_index(drop= True, inplace= True)"
   ]
  },
  {
   "cell_type": "code",
   "execution_count": null,
   "id": "4a1d3fea-3e3a-4f22-80be-1b13b9349a0e",
   "metadata": {},
   "outputs": [],
   "source": [
    "tprs = []\n",
    "aucs = []\n",
    "mean_fpr = np.linspace(0,1,100)\n",
    "cv = RepeatedStratifiedKFold(n_splits= 10, n_repeats= 3, random_state= 1)\n",
    "plt.figure(figsize=(10 , 7))\n",
    "\n",
    "i = 1\n",
    "for train, test in cv.split(x, y):\n",
    "    prediction = pipeline.fit(x.iloc[train], \n",
    "                              y.iloc[train]).predict_proba(x.iloc[test])\n",
    "    fpr, tpr, t = roc_curve(y.iloc[test], prediction[:, 1])\n",
    "    tprs.append(interp(mean_fpr, fpr, tpr))\n",
    "    roc_auc = auc(fpr, tpr)\n",
    "    aucs.append(roc_auc)\n",
    "    plt.plot(fpr, tpr, lw=2, alpha=0.3)\n",
    "    i= i+1\n",
    "\n",
    "plt.plot([0,1],[0,1],linestyle = '--',lw = 2,color = 'black')\n",
    "mean_tpr = np.mean(tprs, axis=0)\n",
    "mean_auc = auc(mean_fpr, mean_tpr)\n",
    "std_auc = np.std(aucs)\n",
    "plt.plot(mean_fpr, mean_tpr, color='navy',\n",
    "         label=r'Mean ROC (AUC = %0.2f $\\pm$ %0.2f)' % (mean_auc, std_auc),lw=4, alpha=1)\n",
    "\n",
    "plt.xlim([-0.05, 1.05])\n",
    "plt.ylim([-0.05, 1.05])\n",
    "plt.xlabel('False Positive Rate', fontsize= 20)\n",
    "plt.ylabel('True Positive Rate', fontsize= 20)\n",
    "plt.title('ROC Curve', fontsize= 20)\n",
    "plt.legend(loc= \"lower right\")\n",
    "plt.show()"
   ]
  },
  {
   "cell_type": "markdown",
   "id": "84dc528b-8530-4dc9-a4fa-46536e051252",
   "metadata": {},
   "source": [
    "## Precision Recall Curve"
   ]
  },
  {
   "cell_type": "code",
   "execution_count": null,
   "id": "72726949-d5f0-4fbb-a81c-b0c666932186",
   "metadata": {},
   "outputs": [],
   "source": [
    "# defining the lists\n",
    "prs = []\n",
    "aucs = []\n",
    "mean_recall = np.linspace(0, 1, 100)\n",
    "cv = RepeatedStratifiedKFold(n_splits= 10, n_repeats= 3, random_state= 1)\n",
    "\n",
    "plt.figure(figsize=(10 , 7))\n",
    "i = 0\n",
    "for train, test in cv.split(x, y):\n",
    "    probas_ = pipeline.fit(x.iloc[train], y.iloc[train]).predict_proba(x.iloc[test])\n",
    "    # Compute PR curve and area the curve\n",
    "    precision, recall, thresholds = precision_recall_curve(y.iloc[test], probas_[:, 1])\n",
    "    prs.append(interp(mean_recall, precision, recall))\n",
    "    pr_auc = auc(recall, precision)\n",
    "    aucs.append(pr_auc)\n",
    "    plt.plot(recall, precision, lw=3, alpha=0.5)\n",
    "    i += 1\n",
    "\n",
    "plt.plot([0, 1], [1, 0], linestyle='--', lw=2, color='black')\n",
    "mean_precision = np.mean(prs, axis=0)\n",
    "mean_auc = auc(mean_recall, mean_precision)\n",
    "std_auc = np.std(aucs)\n",
    "plt.plot(mean_precision, mean_recall, color='navy',\n",
    "         label=r'Mean (AUCPR = %0.2f $\\pm$ %0.2f)' % (mean_auc, std_auc),\n",
    "         lw=4, alpha= 1)\n",
    "\n",
    "plt.xlim([-0.05, 1.05])\n",
    "plt.ylim([-0.05, 1.05])\n",
    "plt.xlabel('Recall', fontsize= 20)\n",
    "plt.ylabel('Precision', fontsize= 20)\n",
    "plt.title('PR Curve', fontsize= 20)\n",
    "plt.legend(loc= \"lower right\")\n",
    "\n",
    "plt.show()"
   ]
  },
  {
   "cell_type": "markdown",
   "id": "03d6a5ab-1899-439a-a643-c0021fc2bfe7",
   "metadata": {},
   "source": [
    "## Cluster Analysis"
   ]
  },
  {
   "cell_type": "markdown",
   "id": "01eaa952-cf5d-4c4f-af29-e29a086fda19",
   "metadata": {},
   "source": [
    "### Create a dataframe with only employees that have quit"
   ]
  },
  {
   "cell_type": "code",
   "execution_count": null,
   "id": "a99be687-fa2d-443b-8068-9b41f41ad077",
   "metadata": {},
   "outputs": [],
   "source": [
    "employee_df = employee_df.merge(labels, how= 'left', on= 'EmployeeNumber')\n",
    "quit_df = employee_df[employee_df.Attrition == 1]\n",
    "quit_df.head()"
   ]
  },
  {
   "cell_type": "code",
   "execution_count": null,
   "id": "a12c0987-f6de-4ac0-b2c7-42d8df50a170",
   "metadata": {},
   "outputs": [],
   "source": [
    "sns.histplot(quit_df.Age, color = 'orange')"
   ]
  },
  {
   "cell_type": "markdown",
   "id": "593f4bd3-7d96-43ce-ba55-d78bd6b7b043",
   "metadata": {},
   "source": [
    "We see that a big portion of people that have quit their job are under 35 years old."
   ]
  },
  {
   "cell_type": "code",
   "execution_count": null,
   "id": "d17c885a-b0d7-479b-8b08-7ccb41fbddb0",
   "metadata": {},
   "outputs": [],
   "source": [
    "df_subset = employee_df[['Age', 'DailyRate']].copy()\n",
    "sns.pairplot(df_subset)"
   ]
  },
  {
   "cell_type": "code",
   "execution_count": null,
   "id": "1dff7ff0-fd7c-48d0-93c5-189f47e7f7a6",
   "metadata": {},
   "outputs": [],
   "source": [
    "df_subset = quit_df[['Age', 'DailyRate']].copy()\n",
    "sns.pairplot(df_subset)"
   ]
  },
  {
   "cell_type": "code",
   "execution_count": null,
   "id": "bdc832d9-1597-46aa-bc3e-9fdb0cb42b95",
   "metadata": {},
   "outputs": [],
   "source": [
    "quit_df['DailyRate'].mean()\n",
    "\n",
    "###From thee ones that quit, nearly half of them"
   ]
  },
  {
   "cell_type": "code",
   "execution_count": null,
   "id": "d1b3932c-b155-43e7-b610-dfae94a146e4",
   "metadata": {},
   "outputs": [],
   "source": [
    "not_quit_df = employee_df[employee_df.Attrition == 0]\n",
    "not_quit_df"
   ]
  },
  {
   "cell_type": "code",
   "execution_count": null,
   "id": "5a1d3e5f-94c2-4ca7-9741-db59177f30c1",
   "metadata": {},
   "outputs": [],
   "source": [
    "df_corr = employee_df.corr(method = 'pearson')\n",
    "figure = plt.figure(figsize = (16, 10))\n",
    "sns.heatmap(df_corr, cmap = 'YlGn',annot = True, fmt = '.1g')"
   ]
  },
  {
   "cell_type": "markdown",
   "id": "ef575616-50ad-4044-b081-e28a45b61746",
   "metadata": {},
   "source": [
    "Chosing variables for cluster: from the correlation map, althouighj there are no variables with high correelation with the target variable, we choose to analyse clusters on the following features:\n",
    "\n",
    "- Age\n",
    "- Education\n",
    "- Monthly income\n",
    "- Totalworking years\n",
    "- Worklife balance"
   ]
  },
  {
   "cell_type": "markdown",
   "id": "1aae7061-1efd-45ff-b522-e9a3833aebc2",
   "metadata": {},
   "source": [
    "### Quitting Cluster"
   ]
  },
  {
   "cell_type": "code",
   "execution_count": null,
   "id": "b77bb707-6028-437e-98c5-0486663bb41e",
   "metadata": {},
   "outputs": [],
   "source": [
    "clus_quit_df = quit_df[['Age', 'Education', 'MonthlyIncome', 'TotalWorkingYears', 'WorkLifeBalance']].copy()\n",
    "clus_quit_df"
   ]
  },
  {
   "cell_type": "code",
   "execution_count": null,
   "id": "1042a56a-4ff0-4268-a42c-f6634633d72d",
   "metadata": {},
   "outputs": [],
   "source": [
    "scaled_clus_quit_df = MinMaxScaler().fit_transform(clus_quit_df)\n",
    "scaled_clus_quit_df"
   ]
  },
  {
   "cell_type": "code",
   "execution_count": null,
   "id": "eb2e7d87-5294-4048-b14e-b7619af71048",
   "metadata": {},
   "outputs": [],
   "source": [
    "cols = clus_quit_df.columns\n",
    "#index = df_v2.index\n",
    "scaled_clus_quit_df = pd.DataFrame(scaled_clus_quit_df, columns = cols)\n",
    "scaled_clus_quit_df"
   ]
  },
  {
   "cell_type": "code",
   "execution_count": null,
   "id": "09978eab-ee55-4aa1-92c1-1851aa729c4e",
   "metadata": {},
   "outputs": [],
   "source": [
    "ks = range(1, 11) # loop between 1 and 10\n",
    "inertias = [] # also called sum of squared errors (difference between the points of the data and the centroid)\n",
    "\n",
    "for k in ks:\n",
    "    # Create a KMeans instance with k clusters: model\n",
    "    model = KMeans(n_clusters=k)\n",
    "\n",
    "    # Fit model to samples\n",
    "    model.fit(scaled_clus_quit_df)\n",
    "\n",
    "    # Append the inertia to the list of inertias\n",
    "    inertias.append(model.inertia_)"
   ]
  },
  {
   "cell_type": "code",
   "execution_count": null,
   "id": "3cf125cd-022f-4244-aa10-1fd6b56fe184",
   "metadata": {},
   "outputs": [],
   "source": [
    "# Plot ks (x-axis) vs inertias (y-axis) using plt.plot(). \n",
    "plt.plot(ks, inertias)\n",
    "\n",
    "# define the label for x axis as 'number of clusters' using matplotlib.pyplot.xlabel\n",
    "plt.xlabel('number of clusters')\n",
    "# define the label for y axis as 'inertia' using matplotlib.pyplot.ylabel\n",
    "plt.ylabel('inertia')\n",
    "# define the ticks in x axis using the values of ks\n",
    "plt.xticks(ks)\n",
    "# call plt.show()\n",
    "plt.show()"
   ]
  },
  {
   "cell_type": "code",
   "execution_count": null,
   "id": "52d63c0b-7e16-4a7b-b1b3-aeab70e36e2f",
   "metadata": {},
   "outputs": [],
   "source": [
    "model_k4 = KMeans(n_clusters = 4, random_state = 0)\n",
    "scaled_clus_quit_df_k4 = scaled_clus_quit_df.copy() # copy the prod dataset in order to join the label column to the original one\n",
    "model_k4.fit(scaled_clus_quit_df_k4)"
   ]
  },
  {
   "cell_type": "code",
   "execution_count": null,
   "id": "065ca122-c4c2-4ec6-b879-06c22b7e8a17",
   "metadata": {},
   "outputs": [],
   "source": [
    "clus_quit_df['label'] = model_k4.labels_\n",
    "clus_quit_df"
   ]
  },
  {
   "cell_type": "code",
   "execution_count": null,
   "id": "a53ae68f-87a0-4fbe-bfa7-1168ac5f5458",
   "metadata": {},
   "outputs": [],
   "source": [
    "clus_quit_df.groupby(['label']).mean().transpose()"
   ]
  },
  {
   "cell_type": "code",
   "execution_count": null,
   "id": "8d053b9d-0e1c-47f8-bb2a-ea83a85ee908",
   "metadata": {},
   "outputs": [],
   "source": [
    "clus_quit_df['label'].value_counts()"
   ]
  },
  {
   "cell_type": "markdown",
   "id": "2a0241e5-bdcb-45e3-9e3c-89df1aaa0b5b",
   "metadata": {},
   "source": [
    "There are four diferent types of people quiting.\n",
    "\n",
    "1 - Older employees with really high salaries - probably retired\n",
    "\n",
    "2 - Lower education, lower working years, good worklife balance\n",
    "\n",
    "3 - High education, worst Work life balance\n",
    "\n",
    "4 - higher education, lower salaries - apostar nesta em proximos passos\n"
   ]
  },
  {
   "cell_type": "markdown",
   "id": "30a3fba1-95d2-4a60-924b-b0ce55b034cf",
   "metadata": {},
   "source": [
    "### Not Quitting Cluster"
   ]
  },
  {
   "cell_type": "code",
   "execution_count": null,
   "id": "aecd505a-7c4f-40a3-89e3-e3aa21bf0190",
   "metadata": {},
   "outputs": [],
   "source": [
    "clus_not_quit_df = not_quit_df[['Age', 'Education', 'MonthlyIncome', 'TotalWorkingYears', 'WorkLifeBalance']].copy()\n",
    "clus_not_quit_df"
   ]
  },
  {
   "cell_type": "code",
   "execution_count": null,
   "id": "d0b37a81-f306-4776-89f5-91000f45d1fa",
   "metadata": {},
   "outputs": [],
   "source": [
    "scaled_clus_not_quit_df = MinMaxScaler().fit_transform(clus_not_quit_df)\n",
    "scaled_clus_not_quit_df"
   ]
  },
  {
   "cell_type": "code",
   "execution_count": null,
   "id": "9a8ab2dc-6670-47b7-ba15-e80e987727cc",
   "metadata": {},
   "outputs": [],
   "source": [
    "cols = clus_not_quit_df.columns\n",
    "#index = df_v2.index\n",
    "scaled_clus_not_quit_df = pd.DataFrame(scaled_clus_not_quit_df, columns = cols)\n",
    "scaled_clus_not_quit_df"
   ]
  },
  {
   "cell_type": "code",
   "execution_count": null,
   "id": "01c01753-6f52-4423-b35b-00d707ac718b",
   "metadata": {},
   "outputs": [],
   "source": [
    "ks = range(1, 11) # loop between 1 and 10\n",
    "inertias = [] # also called sum of squared errors (difference between the points of the data and the centroid)\n",
    "\n",
    "for k in ks:\n",
    "    # Create a KMeans instance with k clusters: model\n",
    "    model = KMeans(n_clusters=k)\n",
    "\n",
    "    # Fit model to samples\n",
    "    model.fit(scaled_clus_not_quit_df)\n",
    "\n",
    "    # Append the inertia to the list of inertias\n",
    "    inertias.append(model.inertia_)"
   ]
  },
  {
   "cell_type": "code",
   "execution_count": null,
   "id": "a091e61a-6a23-49b1-b0fb-7943f244c255",
   "metadata": {},
   "outputs": [],
   "source": [
    "# Plot ks (x-axis) vs inertias (y-axis) using plt.plot(). \n",
    "plt.plot(ks, inertias)\n",
    "\n",
    "# define the label for x axis as 'number of clusters' using matplotlib.pyplot.xlabel\n",
    "plt.xlabel('number of clusters')\n",
    "# define the label for y axis as 'inertia' using matplotlib.pyplot.ylabel\n",
    "plt.ylabel('inertia')\n",
    "# define the ticks in x axis using the values of ks\n",
    "plt.xticks(ks)\n",
    "# call plt.show()\n",
    "plt.show()"
   ]
  },
  {
   "cell_type": "code",
   "execution_count": null,
   "id": "21284671-bacf-49fd-b2d4-efdedc4d1a5f",
   "metadata": {},
   "outputs": [],
   "source": [
    "scaled_clus_not_quit_df_k4 = scaled_clus_not_quit_df.copy() # copy the prod dataset in order to join the label column to the original one\n",
    "model_k4.fit(scaled_clus_not_quit_df_k4)"
   ]
  },
  {
   "cell_type": "code",
   "execution_count": null,
   "id": "3662f349-9124-4dc5-8bf6-b624c2ca9737",
   "metadata": {},
   "outputs": [],
   "source": [
    "clus_not_quit_df['label'] = model_k4.labels_\n",
    "clus_not_quit_df"
   ]
  },
  {
   "cell_type": "code",
   "execution_count": null,
   "id": "4e3b2fa6-cde7-44bd-88f7-88434b10a5f6",
   "metadata": {},
   "outputs": [],
   "source": [
    "clus_not_quit_df.groupby(['label']).mean().transpose()"
   ]
  },
  {
   "cell_type": "code",
   "execution_count": null,
   "id": "58aa9773-d904-4602-86bd-4b93b10c5fbf",
   "metadata": {},
   "outputs": [],
   "source": [
    "clus_not_quit_df['label'].value_counts()"
   ]
  }
 ],
 "metadata": {
  "kernelspec": {
   "display_name": "Python 3 (ipykernel)",
   "language": "python",
   "name": "python3"
  },
  "language_info": {
   "codemirror_mode": {
    "name": "ipython",
    "version": 3
   },
   "file_extension": ".py",
   "mimetype": "text/x-python",
   "name": "python",
   "nbconvert_exporter": "python",
   "pygments_lexer": "ipython3",
   "version": "3.9.7"
  }
 },
 "nbformat": 4,
 "nbformat_minor": 5
}
